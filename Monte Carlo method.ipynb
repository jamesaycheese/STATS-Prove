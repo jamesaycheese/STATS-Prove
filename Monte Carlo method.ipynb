{
 "cells": [
  {
   "cell_type": "code",
   "execution_count": 5,
   "metadata": {},
   "outputs": [
    {
     "name": "stdout",
     "output_type": "stream",
     "text": [
      "Estimated value of pi using 1000000000 samples: 3.1415349\n"
     ]
    }
   ],
   "source": [
    "import random\n",
    "\n",
    "def estimate_pi(num_samples):\n",
    "    \"\"\"Estimates the value of pi using a Monte Carlo method.\"\"\"\n",
    "    points_inside_circle = 0\n",
    "    \n",
    "    for _ in range(num_samples):\n",
    "        x = random.uniform(-1, 1)\n",
    "        y = random.uniform(-1, 1)\n",
    "        \n",
    "        # Check if the point (x, y) is inside the unit circle\n",
    "        if x**2 + y**2 <= 1:\n",
    "            points_inside_circle += 1\n",
    "    \n",
    "    # Estimate pi as the ratio of points inside the circle to total points, multiplied by 4\n",
    "    pi_estimate = 4 * points_inside_circle / num_samples\n",
    "    return pi_estimate\n",
    "\n",
    "def main():\n",
    "    num_samples = int(input(\"Enter the number of samples to use for the Monte Carlo simulation: \"))\n",
    "    \n",
    "    estimated_pi = estimate_pi(num_samples)\n",
    "    print(f\"Estimated value of pi using {num_samples} samples: {estimated_pi}\")\n",
    "\n",
    "if __name__ == \"__main__\":\n",
    "    main()\n"
   ]
  },
  {
   "cell_type": "markdown",
   "metadata": {},
   "source": [
    "Now, let's explain how this Monte Carlo simulation works:\n",
    "\n",
    "Setup: We are trying to estimate the value of π (pi) using a Monte Carlo method. The idea behind this method is to use random sampling to compute numerical results. In this case, we'll use random points in a square to estimate the value of π.\n",
    "Simulation: We generate a large number of random points within a square with side length 2 (ranging from -1 to 1 on both the x and y axes). Each point is represented by its coordinates (x, y).\n",
    "Estimation of π: We consider the unit circle inscribed within the square. Points that fall inside the unit circle (i.e., satisfy the condition x² + y² ≤ 1) are counted as inside points, while those outside are counted as outside points.\n",
    "Ratio Calculation: We then calculate the ratio of points inside the circle to the total number of points generated. Since the area of the unit circle is πr² and the area of the square is (2r)² = 4r² (where r = 1), the ratio of the areas is π/4. So, we multiply the ratio of points inside the circle by 4 to estimate the value of π.\n",
    "Output: Finally, we print out the estimated value of π based on the number of samples used in the simulation.\n",
    "As we increase the number of samples (randomly generated points), the estimation of π becomes more accurate due to the law of large numbers, which states that the average of the results obtained from a large number of trials should be close to the expected value."
   ]
  }
 ],
 "metadata": {
  "kernelspec": {
   "display_name": "Python 3",
   "language": "python",
   "name": "python3"
  },
  "language_info": {
   "codemirror_mode": {
    "name": "ipython",
    "version": 3
   },
   "file_extension": ".py",
   "mimetype": "text/x-python",
   "name": "python",
   "nbconvert_exporter": "python",
   "pygments_lexer": "ipython3",
   "version": "3.12.1"
  }
 },
 "nbformat": 4,
 "nbformat_minor": 2
}
