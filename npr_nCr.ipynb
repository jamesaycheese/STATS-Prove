{
 "cells": [
  {
   "cell_type": "code",
   "execution_count": 1,
   "metadata": {},
   "outputs": [],
   "source": [
    "def factorial(n):\n",
    "    \"\"\"Calculate the factorial of n.\"\"\"\n",
    "    if n == 0:\n",
    "        return 1\n",
    "    else:\n",
    "        return n * factorial(n-1)\n",
    "\n",
    "def nPr(n, r):\n",
    "    \"\"\"Calculate the number of permutations of n items taken r at a time.\"\"\"\n",
    "    return factorial(n) / factorial(n-r)\n",
    "\n",
    "def nCr(n, r):\n",
    "    \"\"\"Calculate the number of combinations of n items taken r at a time.\"\"\"\n",
    "    return factorial(n) / (factorial(r) * factorial(n-r))\n"
   ]
  },
  {
   "cell_type": "markdown",
   "metadata": {},
   "source": [
    "Permutations (nPr): The number of ways to arrange n items into r positions without repetition, where the order matters. The formula is nPr = n! / (n-r)!.\n",
    "Combinations (nCr): The number of ways to choose r items from a set of n items without repetition and without order being important. The formula is nCr = n! / (r! * (n-r)!).\n",
    "Let's write Python functions to calculate nPr and nCr, and then I'll provide examples using these functions."
   ]
  },
  {
   "cell_type": "markdown",
   "metadata": {},
   "source": [
    "Example of nPr (Permutations)\n",
    "Let's calculate the number of ways to arrange 5 books on 3 different shelves.\n",
    "\n",
    "Here, n = 5 (since we have 5 books),\n",
    "and r = 3 (because we are choosing 3 shelves to arrange them on)."
   ]
  },
  {
   "cell_type": "code",
   "execution_count": 2,
   "metadata": {},
   "outputs": [
    {
     "name": "stdout",
     "output_type": "stream",
     "text": [
      "Number of ways to arrange 5 books on 3 shelves: 60.0\n"
     ]
    }
   ],
   "source": [
    "n = 5\n",
    "r = 3\n",
    "permutations = nPr(n, r)\n",
    "print(f\"Number of ways to arrange {n} books on {r} shelves: {permutations}\")\n"
   ]
  },
  {
   "cell_type": "markdown",
   "metadata": {},
   "source": [
    "Example of nCr (Combinations)\n",
    "Now, let's calculate the number of ways to select 3 books from a collection of 5 books.\n",
    "\n",
    "Again, n = 5 (we have 5 books),\n",
    "but now r = 3 (we are selecting 3 books out of the 5)."
   ]
  },
  {
   "cell_type": "code",
   "execution_count": 3,
   "metadata": {},
   "outputs": [
    {
     "name": "stdout",
     "output_type": "stream",
     "text": [
      "Number of ways to select 3 books out of 5 books: 10.0\n"
     ]
    }
   ],
   "source": [
    "n = 5\n",
    "r = 3\n",
    "combinations = nCr(n, r)\n",
    "print(f\"Number of ways to select {r} books out of {n} books: {combinations}\")\n"
   ]
  },
  {
   "cell_type": "markdown",
   "metadata": {},
   "source": [
    "Now, let's run these examples to see the results.\n",
    "For the given examples:\n",
    "\n",
    "The number of ways to arrange 5 books on 3 different shelves (nPr) is 60. This means there are 60 different permutations or arrangements of 5 books in 3 positions where the order matters.\n",
    "The number of ways to select 3 books out of 5 (nCr) is 10. This indicates there are 10 different combinations of selecting 3 books from a set of 5, where the order of selection does not matter.\n",
    "The calculations demonstrate the fundamental differences between permutations and combinations:\n",
    "\n",
    "Permutations (nPr) focus on arrangements where the order of items matters, resulting in a higher number of possibilities when the same number of items are considered.\n",
    "Combinations (nCr) are concerned with selections where the order does not matter, leading to fewer possibilities for the same scenario, as it consolidates all permutations that contain the same items into a single combination."
   ]
  },
  {
   "cell_type": "code",
   "execution_count": null,
   "metadata": {},
   "outputs": [],
   "source": []
  }
 ],
 "metadata": {
  "kernelspec": {
   "display_name": "Python 3",
   "language": "python",
   "name": "python3"
  },
  "language_info": {
   "codemirror_mode": {
    "name": "ipython",
    "version": 3
   },
   "file_extension": ".py",
   "mimetype": "text/x-python",
   "name": "python",
   "nbconvert_exporter": "python",
   "pygments_lexer": "ipython3",
   "version": "3.12.1"
  }
 },
 "nbformat": 4,
 "nbformat_minor": 2
}
