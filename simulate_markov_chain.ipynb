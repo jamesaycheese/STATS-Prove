{
 "cells": [
  {
   "cell_type": "code",
   "execution_count": 1,
   "metadata": {},
   "outputs": [
    {
     "name": "stdout",
     "output_type": "stream",
     "text": [
      "States visited: ['Rainy', 'Rainy', 'Sunny', 'Sunny', 'Rainy', 'Sunny', 'Sunny', 'Rainy', 'Sunny', 'Rainy', 'Sunny']\n"
     ]
    }
   ],
   "source": [
    "import numpy as np\n",
    "\n",
    "# Define the states and transition matrix\n",
    "states = ['Rainy', 'Sunny']\n",
    "transition_matrix = [[0.7, 0.3],  # Transition probabilities from Rainy\n",
    "                     [0.4, 0.6]]  # Transition probabilities from Sunny\n",
    "\n",
    "# Function to perform the Markov chain simulation\n",
    "def simulate_markov_chain(start_state, steps):\n",
    "    state = start_state\n",
    "    state_history = [state]\n",
    "    for i in range(steps):\n",
    "        next_state = np.random.choice(states, p=transition_matrix[states.index(state)])\n",
    "        state_history.append(next_state)\n",
    "        state = next_state\n",
    "    return state_history\n",
    "\n",
    "# Simulate the Markov chain starting from 'Rainy' for 10 steps\n",
    "state_history = simulate_markov_chain('Rainy', 10)\n",
    "print(\"States visited:\", state_history)\n"
   ]
  }
 ],
 "metadata": {
  "kernelspec": {
   "display_name": "Python 3",
   "language": "python",
   "name": "python3"
  },
  "language_info": {
   "codemirror_mode": {
    "name": "ipython",
    "version": 3
   },
   "file_extension": ".py",
   "mimetype": "text/x-python",
   "name": "python",
   "nbconvert_exporter": "python",
   "pygments_lexer": "ipython3",
   "version": "3.12.1"
  }
 },
 "nbformat": 4,
 "nbformat_minor": 2
}
