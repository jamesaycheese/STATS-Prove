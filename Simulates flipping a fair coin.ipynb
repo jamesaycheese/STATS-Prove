{
 "cells": [
  {
   "cell_type": "code",
   "execution_count": 4,
   "metadata": {},
   "outputs": [
    {
     "name": "stdout",
     "output_type": "stream",
     "text": [
      "Results of 10000 coin flips:\n",
      "Heads: 5050 (50.50%)\n",
      "Tails: 4950 (49.50%)\n"
     ]
    }
   ],
   "source": [
    "import random\n",
    "\n",
    "def flip_coin():\n",
    "    \"\"\"Simulates flipping a fair coin.\"\"\"\n",
    "    return random.choice(['Heads', 'Tails'])\n",
    "\n",
    "def coin_flip_experiment(num_flips):\n",
    "    \"\"\"Performs a coin flip experiment for a specified number of flips.\"\"\"\n",
    "    heads_count = 0\n",
    "    tails_count = 0\n",
    "    \n",
    "    for _ in range(num_flips):\n",
    "        result = flip_coin()\n",
    "        if result == 'Heads':\n",
    "            heads_count += 1\n",
    "        else:\n",
    "            tails_count += 1\n",
    "    \n",
    "    return heads_count, tails_count\n",
    "\n",
    "def main():\n",
    "    num_flips = int(input(\"Enter the number of times you want to flip the coin: \"))\n",
    "    \n",
    "    heads_count, tails_count = coin_flip_experiment(num_flips)\n",
    "    \n",
    "    print(f\"Results of {num_flips} coin flips:\")\n",
    "    print(f\"Heads: {heads_count} ({heads_count / num_flips * 100:.2f}%)\")\n",
    "    print(f\"Tails: {tails_count} ({tails_count / num_flips * 100:.2f}%)\")\n",
    "\n",
    "if __name__ == \"__main__\":\n",
    "    main()\n"
   ]
  },
  {
   "cell_type": "code",
   "execution_count": 5,
   "metadata": {},
   "outputs": [
    {
     "name": "stdout",
     "output_type": "stream",
     "text": [
      "Results of 10000000 coin flips:\n",
      "Heads: 4999612 (50.00%)\n",
      "Tails: 5000388 (50.00%)\n"
     ]
    }
   ],
   "source": [
    "import random\n",
    "\n",
    "def flip_coin():\n",
    "    \"\"\"Simulates flipping a fair coin.\"\"\"\n",
    "    return random.choice(['Heads', 'Tails'])\n",
    "\n",
    "def coin_flip_experiment(num_flips):\n",
    "    \"\"\"Performs a coin flip experiment for a specified number of flips.\"\"\"\n",
    "    heads_count = 0\n",
    "    tails_count = 0\n",
    "    \n",
    "    for _ in range(num_flips):\n",
    "        result = flip_coin()\n",
    "        if result == 'Heads':\n",
    "            heads_count += 1\n",
    "        else:\n",
    "            tails_count += 1\n",
    "    \n",
    "    return heads_count, tails_count\n",
    "\n",
    "def main():\n",
    "    num_flips = int(input(\"Enter the number of times you want to flip the coin: \"))\n",
    "    \n",
    "    heads_count, tails_count = coin_flip_experiment(num_flips)\n",
    "    \n",
    "    print(f\"Results of {num_flips} coin flips:\")\n",
    "    print(f\"Heads: {heads_count} ({heads_count / num_flips * 100:.2f}%)\")\n",
    "    print(f\"Tails: {tails_count} ({tails_count / num_flips * 100:.2f}%)\")\n",
    "\n",
    "if __name__ == \"__main__\":\n",
    "    main()\n"
   ]
  },
  {
   "cell_type": "code",
   "execution_count": 6,
   "metadata": {},
   "outputs": [
    {
     "name": "stdout",
     "output_type": "stream",
     "text": [
      "Results of 100000000000 coin flips:\n",
      "Heads: 49999915790 (50.00%)\n",
      "Tails: 50000084210 (50.00%)\n"
     ]
    }
   ],
   "source": [
    "import random\n",
    "\n",
    "def flip_coin():\n",
    "    \"\"\"Simulates flipping a fair coin.\"\"\"\n",
    "    return random.choice(['Heads', 'Tails'])\n",
    "\n",
    "def coin_flip_experiment(num_flips):\n",
    "    \"\"\"Performs a coin flip experiment for a specified number of flips.\"\"\"\n",
    "    heads_count = 0\n",
    "    tails_count = 0\n",
    "    \n",
    "    for _ in range(num_flips):\n",
    "        result = flip_coin()\n",
    "        if result == 'Heads':\n",
    "            heads_count += 1\n",
    "        else:\n",
    "            tails_count += 1\n",
    "    \n",
    "    return heads_count, tails_count\n",
    "\n",
    "def main():\n",
    "    num_flips = int(input(\"Enter the number of times you want to flip the coin: \"))\n",
    "    \n",
    "    heads_count, tails_count = coin_flip_experiment(num_flips)\n",
    "    \n",
    "    print(f\"Results of {num_flips} coin flips:\")\n",
    "    print(f\"Heads: {heads_count} ({heads_count / num_flips * 100:.2f}%)\")\n",
    "    print(f\"Tails: {tails_count} ({tails_count / num_flips * 100:.2f}%)\")\n",
    "\n",
    "if __name__ == \"__main__\":\n",
    "    main()\n"
   ]
  }
 ],
 "metadata": {
  "kernelspec": {
   "display_name": "Python 3",
   "language": "python",
   "name": "python3"
  },
  "language_info": {
   "codemirror_mode": {
    "name": "ipython",
    "version": 3
   },
   "file_extension": ".py",
   "mimetype": "text/x-python",
   "name": "python",
   "nbconvert_exporter": "python",
   "pygments_lexer": "ipython3",
   "version": "3.12.1"
  }
 },
 "nbformat": 4,
 "nbformat_minor": 2
}
